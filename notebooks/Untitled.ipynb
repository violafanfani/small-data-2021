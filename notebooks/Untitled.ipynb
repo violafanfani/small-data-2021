{
 "cells": [
  {
   "cell_type": "markdown",
   "metadata": {},
   "source": [
    "# ABC \n"
   ]
  },
  {
   "cell_type": "markdown",
   "metadata": {},
   "source": [
    "Before jumping into cooler and more complex models, we are going to try out PyMC3 with some simple regression models. For most of these examples, non-Bayesian methods would be more than appropriate, but we need to start from some basics, so that we can learn how to use the library correctly.\n",
    "\n",
    "**Outline of this notebook** : \n",
    " \n",
    " - Example 1: Linear Regression\n",
    " - Exercise 1: first parameter estimation\n",
    " - Example 2: Non-linear Regression\n",
    " - Exercise 2: Linear Regression with noise confounders"
   ]
  }
 ],
 "metadata": {
  "kernelspec": {
   "display_name": "Python 3.7.7 64-bit ('notebook': conda)",
   "language": "python",
   "name": "python37764bitnotebookconda13211ca0dbc746c492778c14024f4db2"
  },
  "language_info": {
   "codemirror_mode": {
    "name": "ipython",
    "version": 3
   },
   "file_extension": ".py",
   "mimetype": "text/x-python",
   "name": "python",
   "nbconvert_exporter": "python",
   "pygments_lexer": "ipython3",
   "version": "3.7.7"
  }
 },
 "nbformat": 4,
 "nbformat_minor": 4
}
